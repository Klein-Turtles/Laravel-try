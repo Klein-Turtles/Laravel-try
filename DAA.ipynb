{
  "nbformat": 4,
  "nbformat_minor": 0,
  "metadata": {
    "colab": {
      "provenance": [],
      "include_colab_link": true
    },
    "kernelspec": {
      "name": "python3",
      "display_name": "Python 3"
    },
    "language_info": {
      "name": "python"
    }
  },
  "cells": [
    {
      "cell_type": "markdown",
      "metadata": {
        "id": "view-in-github",
        "colab_type": "text"
      },
      "source": [
        "<a href=\"https://colab.research.google.com/github/Klein-Turtles/Laravel-try/blob/main/DAA.ipynb\" target=\"_parent\"><img src=\"https://colab.research.google.com/assets/colab-badge.svg\" alt=\"Open In Colab\"/></a>"
      ]
    },
    {
      "cell_type": "markdown",
      "source": [
        "Nama : xxxxxxx, Kelas : B"
      ],
      "metadata": {
        "id": "D7sP37SOY9uR"
      }
    },
    {
      "cell_type": "markdown",
      "source": [
        "### **Desain Analisis Algoritma T.Informatika UM**"
      ],
      "metadata": {
        "id": "JTvNaoY80grT"
      }
    },
    {
      "cell_type": "markdown",
      "source": [
        "Praktek Merge Sort, 14 09 2025"
      ],
      "metadata": {
        "id": "Ris1VayT0YAL"
      }
    },
    {
      "cell_type": "markdown",
      "source": [],
      "metadata": {
        "id": "YflltdhF0wLk"
      }
    },
    {
      "cell_type": "code",
      "execution_count": null,
      "metadata": {
        "id": "9SlXxGpsz6Xd"
      },
      "outputs": [],
      "source": [
        "from random import seed # for creating test arrays with random numbers\n",
        "from random import randint\n",
        "from time import process_time # for measuring the time\n",
        "import pandas as pd  # for tabular output\n",
        "import matplotlib.pyplot as plt # for plotting"
      ]
    },
    {
      "cell_type": "code",
      "source": [
        "class MergeSort():\n",
        "  # Class Constructor __init__\n",
        "    def __init__(self):\n",
        "        self.helper = []\n",
        "        self.duration = 0\n",
        "    def sort(self, a):\n",
        "        start = process_time()\n",
        "        a = self.mergesort(a);\n",
        "        end = process_time()\n",
        "        self.duration = end - start\n",
        "        return a\n",
        "    def print(self, comment, a):\n",
        "        print(comment)\n",
        "        print(a)\n",
        "\n",
        "    def mergesort(self, a):\n",
        "        '''This method does the actual sorting'''\n",
        "        m = len(a) // 2  # determine index of mid element\n",
        "        left = a[:m] # left helper array\n",
        "        right = a[m:] # right helper array\n",
        "\n",
        "        # Recursive calls\n",
        "        if len(left) > 1: # as long as left helper is not empty\n",
        "            left = self.mergesort(left) # sort left helper\n",
        "        if len(right) > 1:\n",
        "            right = self.mergesort(right) # sort right helper\n",
        "\n",
        "        return self.merge(left, right) # merge left and right halfs\n",
        "\n",
        "    def merge(self, left, right):\n",
        "        '''This method merges two already sorted halves'''\n",
        "        res = [] # res is a list that will store the merged array obtained from the already sorted halves left and right\n",
        "        while left and right: # as long as both helper arrays are not empty\n",
        "            if left[-1] >= right[-1]: # if last element of left >= than last element of right\n",
        "                res.append(left.pop()) # Add last element from left to res and remove it from left\n",
        "            else: # right hat den größten letzten Wert\n",
        "                res.append(right.pop()) # Add last element from right to res and remove it from right\n",
        "        res.reverse() # Reverse the order of res\n",
        "        return (left or right) + res # Return res and any eventual remaining elements from left or right"
      ],
      "metadata": {
        "id": "4TTMno4TXM8-"
      },
      "execution_count": null,
      "outputs": []
    },
    {
      "cell_type": "code",
      "source": [
        "print(\"******Test MergeSort********\")\n",
        "mergeSort = MergeSort() # new class instance\n",
        "a = [49, 30, 1, 33, 21, 10] # Test array\n",
        "mergeSort.print(\"Unsorted: \", a)\n",
        "a = mergeSort.sort(a)\n",
        "mergeSort.print(\"Sorted: \", a)"
      ],
      "metadata": {
        "colab": {
          "base_uri": "https://localhost:8080/"
        },
        "id": "fjHwZuHvXRUB",
        "outputId": "469bf946-9211-4c53-952d-e6369f19e227"
      },
      "execution_count": null,
      "outputs": [
        {
          "output_type": "stream",
          "name": "stdout",
          "text": [
            "******Test MergeSort********\n",
            "Unsorted: \n",
            "[49, 30, 1, 33, 21, 10]\n",
            "Sorted: \n",
            "[1, 10, 21, 30, 33, 49]\n"
          ]
        }
      ]
    },
    {
      "cell_type": "code",
      "source": [
        "print(\"******Test MergeSort********\")\n",
        "N = 100\n",
        "col1, col2 = [], []\n",
        "seed(1234) # set seed for random generator\n",
        "mergeSort = MergeSort() # new class instance\n",
        "while N < 10000:\n",
        "    seq = [] # create a new test sequence\n",
        "    for i in range(0, N):\n",
        "        seq.append(randint(0, 100)) # add random integers\n",
        "    seq = mergeSort.sort(seq) # sort the array\n",
        "    print(\"%d %.4e\" % (N, mergeSort.duration))\n",
        "    col1.append(N); col2.append(mergeSort.duration) # append N and duration to the lists\n",
        "    N = N * 2 # increase N\n",
        "\n",
        "# Create  data frame for displaying duration as table\n",
        "df = pd.DataFrame(list(zip(col1, col2)), columns =['N', 'Duration'])\n",
        "print(df)"
      ],
      "metadata": {
        "colab": {
          "base_uri": "https://localhost:8080/"
        },
        "id": "pOjV58phXajl",
        "outputId": "867682e6-96fc-4596-9829-2b5d0d11c41c"
      },
      "execution_count": null,
      "outputs": [
        {
          "output_type": "stream",
          "name": "stdout",
          "text": [
            "******Test MergeSort********\n",
            "100 4.5027e-04\n",
            "200 5.1803e-04\n",
            "400 1.3647e-03\n",
            "800 2.6111e-03\n",
            "1600 5.5066e-03\n",
            "3200 1.1908e-02\n",
            "6400 2.4477e-02\n",
            "      N  Duration\n",
            "0   100  0.000450\n",
            "1   200  0.000518\n",
            "2   400  0.001365\n",
            "3   800  0.002611\n",
            "4  1600  0.005507\n",
            "5  3200  0.011908\n",
            "6  6400  0.024477\n"
          ]
        }
      ]
    },
    {
      "cell_type": "code",
      "source": [
        "fig=plt.figure(figsize=[4,2])\n",
        "ax = df.plot(x = 'N', y = 'Duration', style='o')\n",
        "ax.set_title('Duration vs. Array Size')\n",
        "ax.set_xlabel('N');\n",
        "ax.set_ylabel('Duration');"
      ],
      "metadata": {
        "colab": {
          "base_uri": "https://localhost:8080/",
          "height": 489
        },
        "id": "g64JkT2WXYZt",
        "outputId": "a228c5ba-424a-4f38-ed8b-900f12c6d4b1"
      },
      "execution_count": null,
      "outputs": [
        {
          "output_type": "display_data",
          "data": {
            "text/plain": [
              "<Figure size 400x200 with 0 Axes>"
            ]
          },
          "metadata": {}
        },
        {
          "output_type": "display_data",
          "data": {
            "text/plain": [
              "<Figure size 640x480 with 1 Axes>"
            ],
            "image/png": "[encoded data removed]"
          },
          "metadata": {}
        }
      ]
    },
    {
      "cell_type": "markdown",
      "source": [
        "Rumus fungsi N vs Duration adalah y = ax + b"
      ],
      "metadata": {
        "id": "Axf3a8xTZYkD"
      }
    },
    {
      "cell_type": "code",
      "source": [],
      "metadata": {
        "id": "x1_UQZOVZj4h"
      },
      "execution_count": null,
      "outputs": []
    }
  ]
}